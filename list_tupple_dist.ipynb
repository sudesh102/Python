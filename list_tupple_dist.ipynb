{
 "cells": [
  {
   "cell_type": "code",
   "execution_count": 6,
   "id": "14b40681-9ea9-4e63-b149-14f618e2fd6b",
   "metadata": {},
   "outputs": [
    {
     "name": "stdout",
     "output_type": "stream",
     "text": [
      "Hello\n"
     ]
    }
   ],
   "source": [
    "print(\"Hello\")"
   ]
  },
  {
   "cell_type": "code",
   "execution_count": 16,
   "id": "ee01e500-10e4-4b19-a125-97dae5f8c2df",
   "metadata": {},
   "outputs": [
    {
     "name": "stdout",
     "output_type": "stream",
     "text": [
      "l1[0]: phy\n",
      "l2[1]: 2\n",
      "l2[2]: 6\n",
      "l2[1] 6\n"
     ]
    }
   ],
   "source": [
    "l1=['phy','chem',2000,2004]\n",
    "l2=[1,2,3,4,5]\n",
    "l3=[\"a\",\"b\",\"c\",\"d\"]\n",
    "print(\"l1[0]:\",l1[0])\n",
    "print(\"l2[1]:\",l2[1])\n",
    "l2[2]=6\n",
    "print(\"l2[2]:\",l2[2])\n",
    "del l2[1]\n",
    "print(\"l2[1]\",l2[1])"
   ]
  },
  {
   "cell_type": "code",
   "execution_count": 22,
   "id": "6f998a4c-bb45-4a1b-9311-6c059b8792c3",
   "metadata": {},
   "outputs": [
    {
     "name": "stdout",
     "output_type": "stream",
     "text": [
      "Length: 4\n"
     ]
    }
   ],
   "source": [
    "print(\"Length ->\")\n",
    "l4=[1,2,3,4]\n",
    "print(\"Length:\",len(l4))"
   ]
  },
  {
   "cell_type": "code",
   "execution_count": 26,
   "id": "95729eba-7fe1-4d08-9858-89f39fbdd850",
   "metadata": {},
   "outputs": [
    {
     "name": "stdout",
     "output_type": "stream",
     "text": [
      "Concatinate ->\n",
      "After concatinate: [1, 2, 3, 4, 5, 6]\n"
     ]
    }
   ],
   "source": [
    "print(\"Concatinate ->\")\n",
    "l1=[1,2,3]\n",
    "l2=[4,5,6]\n",
    "print(\"After concatinate:\",l1+l2)"
   ]
  },
  {
   "cell_type": "code",
   "execution_count": 28,
   "id": "9c245fa2-4ef8-4ac8-b9bd-7686abb14ed3",
   "metadata": {},
   "outputs": [
    {
     "name": "stdout",
     "output_type": "stream",
     "text": [
      "Repetition ->\n",
      "['Hii!', 'Hii!', 'Hii!', 'Hii!', 'Hii!']\n"
     ]
    }
   ],
   "source": [
    "print(\"Repetition ->\")\n",
    "print(['Hii!']*5)"
   ]
  },
  {
   "cell_type": "code",
   "execution_count": 32,
   "id": "e8bb6951-8f01-4c3e-8c84-72eefc69d678",
   "metadata": {},
   "outputs": [
    {
     "name": "stdout",
     "output_type": "stream",
     "text": [
      "Membership ->\n",
      "True\n",
      "True\n"
     ]
    }
   ],
   "source": [
    "print(\"Membership ->\")\n",
    "print(3 in [1,2,3])\n",
    "\n",
    "x=['dog','cat']\n",
    "print('cat' in x)"
   ]
  },
  {
   "cell_type": "code",
   "execution_count": 55,
   "id": "40b1c968-c3dc-4f3e-80a2-e2005ff7cd9b",
   "metadata": {},
   "outputs": [
    {
     "ename": "IndentationError",
     "evalue": "expected an indented block after 'for' statement on line 3 (3045038124.py, line 4)",
     "output_type": "error",
     "traceback": [
      "\u001b[1;36m  Cell \u001b[1;32mIn[55], line 4\u001b[1;36m\u001b[0m\n\u001b[1;33m    print(i,end=' ')\u001b[0m\n\u001b[1;37m    ^\u001b[0m\n\u001b[1;31mIndentationError\u001b[0m\u001b[1;31m:\u001b[0m expected an indented block after 'for' statement on line 3\n"
     ]
    }
   ],
   "source": [
    "print(\" Iteration ->\")\n",
    "x=[1,2,3]\n",
    "for i in x :\n",
    "print(i,end=' ')"
   ]
  },
  {
   "cell_type": "code",
   "execution_count": 67,
   "id": "fbc7be88-7019-47da-ad47-9f496010fe10",
   "metadata": {},
   "outputs": [
    {
     "ename": "IndentationError",
     "evalue": "expected an indented block after 'for' statement on line 1 (1338599972.py, line 2)",
     "output_type": "error",
     "traceback": [
      "\u001b[1;36m  Cell \u001b[1;32mIn[67], line 2\u001b[1;36m\u001b[0m\n\u001b[1;33m    print (x,end =' ')\u001b[0m\n\u001b[1;37m    ^\u001b[0m\n\u001b[1;31mIndentationError\u001b[0m\u001b[1;31m:\u001b[0m expected an indented block after 'for' statement on line 1\n"
     ]
    }
   ],
   "source": [
    "for x in [1,2,3]: \n",
    "print (x,end =' ')\n"
   ]
  },
  {
   "cell_type": "code",
   "execution_count": 69,
   "id": "5a221705-0b63-489b-b31c-3a84a988dea4",
   "metadata": {
    "scrolled": true
   },
   "outputs": [
    {
     "ename": "NameError",
     "evalue": "name 'cmp' is not defined",
     "output_type": "error",
     "traceback": [
      "\u001b[1;31m---------------------------------------------------------------------------\u001b[0m",
      "\u001b[1;31mNameError\u001b[0m                                 Traceback (most recent call last)",
      "Cell \u001b[1;32mIn[69], line 3\u001b[0m\n\u001b[0;32m      1\u001b[0m l1\u001b[38;5;241m=\u001b[39m[\u001b[38;5;241m1\u001b[39m,\u001b[38;5;241m2\u001b[39m,\u001b[38;5;241m3\u001b[39m]\n\u001b[0;32m      2\u001b[0m l2\u001b[38;5;241m=\u001b[39m[\u001b[38;5;241m1\u001b[39m,\u001b[38;5;241m2\u001b[39m,\u001b[38;5;241m3\u001b[39m]\n\u001b[1;32m----> 3\u001b[0m cmp(l1,l2)\n",
      "\u001b[1;31mNameError\u001b[0m: name 'cmp' is not defined"
     ]
    }
   ],
   "source": [
    "l1=[1,2,3]\n",
    "l2=[1,2,3]\n",
    "cmp(l1,l2)"
   ]
  },
  {
   "cell_type": "code",
   "execution_count": 73,
   "id": "77980bba-9ef4-4504-9122-1fe1962ed03c",
   "metadata": {},
   "outputs": [
    {
     "name": "stdout",
     "output_type": "stream",
     "text": [
      "Max: 7\n",
      "Min: 1\n"
     ]
    }
   ],
   "source": [
    "l1=[1,2,3,4,5,6,7]\n",
    "print(\"Max:\",max(l1))\n",
    "print(\"Min:\",min(l1))"
   ]
  },
  {
   "cell_type": "code",
   "execution_count": null,
   "id": "5b485e2e-6f04-44e2-b758-60620173d446",
   "metadata": {},
   "outputs": [],
   "source": []
  }
 ],
 "metadata": {
  "kernelspec": {
   "display_name": "Python 3 (ipykernel)",
   "language": "python",
   "name": "python3"
  },
  "language_info": {
   "codemirror_mode": {
    "name": "ipython",
    "version": 3
   },
   "file_extension": ".py",
   "mimetype": "text/x-python",
   "name": "python",
   "nbconvert_exporter": "python",
   "pygments_lexer": "ipython3",
   "version": "3.12.4"
  }
 },
 "nbformat": 4,
 "nbformat_minor": 5
}
