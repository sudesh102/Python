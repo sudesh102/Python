{
 "cells": [
  {
   "cell_type": "code",
   "execution_count": 1,
   "id": "02e011f7-e20f-488e-a755-1d88a4713cbd",
   "metadata": {},
   "outputs": [
    {
     "name": "stdout",
     "output_type": "stream",
     "text": [
      "Series([], dtype: object)\n"
     ]
    }
   ],
   "source": [
    "# SERIES\n",
    "# Creating of empty series\n",
    "import pandas as pd\n",
    "s=pd.Series()\n",
    "print(s)"
   ]
  },
  {
   "cell_type": "code",
   "execution_count": 7,
   "id": "7c6f6f44-b012-406e-9cd0-b02f043b0840",
   "metadata": {},
   "outputs": [
    {
     "name": "stdout",
     "output_type": "stream",
     "text": [
      "0    1\n",
      "1    2\n",
      "2    3\n",
      "3    4\n",
      "dtype: int32\n",
      "0    a\n",
      "1    b\n",
      "2    c\n",
      "3    d\n",
      "dtype: object\n"
     ]
    }
   ],
   "source": [
    "# Create series of ndarray\n",
    "import pandas as pd\n",
    "import numpy as np\n",
    "\n",
    "data1=np.array([1,2,3,4])\n",
    "data2=np.array(['a','b','c','d'])\n",
    "s1=pd.Series(data1)\n",
    "s2=pd.Series(data2)\n",
    "print(s1)\n",
    "print(s2)"
   ]
  },
  {
   "cell_type": "code",
   "execution_count": 13,
   "id": "fa838cb9-e435-425f-ba14-4ce2db4e150f",
   "metadata": {},
   "outputs": [
    {
     "name": "stdout",
     "output_type": "stream",
     "text": [
      "100    a\n",
      "101    b\n",
      "102    c\n",
      "104    d\n",
      "dtype: object\n"
     ]
    }
   ],
   "source": [
    "# Give index\n",
    "import pandas as pd\n",
    "import numpy as np\n",
    "data=np.array(['a','b','c','d'])\n",
    "s=pd.Series(data,index=[100,101,102,104])\n",
    "print(s)"
   ]
  },
  {
   "cell_type": "code",
   "execution_count": 17,
   "id": "8e79de37-4187-4ee5-aff8-5b11c8662fc9",
   "metadata": {},
   "outputs": [
    {
     "name": "stdout",
     "output_type": "stream",
     "text": [
      "a    0.0\n",
      "b    1.0\n",
      "c    2.0\n",
      "dtype: float64\n"
     ]
    }
   ],
   "source": [
    "# Create Series of dict\n",
    "import pandas as pd\n",
    "import numpy as np\n",
    "\n",
    "data={'a':0.,'b':1.,'c':2.}\n",
    "s=pd.Series(data)\n",
    "print(s)"
   ]
  },
  {
   "cell_type": "code",
   "execution_count": 19,
   "id": "fa75e5ec-6403-4963-8f11-3b66c26868e2",
   "metadata": {},
   "outputs": [
    {
     "name": "stdout",
     "output_type": "stream",
     "text": [
      "c    2.0\n",
      "a    0.0\n",
      "d    NaN\n",
      "b    1.0\n",
      "dtype: float64\n"
     ]
    }
   ],
   "source": [
    "import pandas as pd\n",
    "import numpy as np\n",
    "data={'a':0.,'b':1.,'c':2.}\n",
    "s=pd.Series(data,index=['c','a','d','b'])\n",
    "print(s)"
   ]
  },
  {
   "cell_type": "code",
   "execution_count": 29,
   "id": "555901db-20cf-4b49-abaa-7ea4e8159939",
   "metadata": {},
   "outputs": [
    {
     "name": "stdout",
     "output_type": "stream",
     "text": [
      "1\n"
     ]
    },
    {
     "name": "stderr",
     "output_type": "stream",
     "text": [
      "C:\\Users\\Admin\\AppData\\Local\\Temp\\ipykernel_5844\\3153952646.py:4: FutureWarning: Series.__getitem__ treating keys as positions is deprecated. In a future version, integer keys will always be treated as labels (consistent with DataFrame behavior). To access a value by position, use `ser.iloc[pos]`\n",
      "  print (s[0])\n"
     ]
    }
   ],
   "source": [
    "# Retrive the element\n",
    "import pandas as pd\n",
    "s=pd.Series([1,2,3,4],index=['a','b','c','d'])\n",
    "print (s[0])"
   ]
  },
  {
   "cell_type": "code",
   "execution_count": 71,
   "id": "83788d04-8121-4e9d-ac81-229dfa9c31f7",
   "metadata": {},
   "outputs": [
    {
     "name": "stdout",
     "output_type": "stream",
     "text": [
      "a    1\n",
      "b    2\n",
      "c    3\n",
      "dtype: int64\n"
     ]
    }
   ],
   "source": [
    "# Retrive first 3 elments the element\n",
    "import pandas as pd\n",
    "s=pd.Series([1,2,3,4,5],index=['a','b','c','d','e'])\n",
    "print (s[:3])"
   ]
  },
  {
   "cell_type": "code",
   "execution_count": 41,
   "id": "3043a280-c077-4b0d-9963-7e40a1c4994f",
   "metadata": {},
   "outputs": [
    {
     "name": "stdout",
     "output_type": "stream",
     "text": [
      "c    3\n",
      "d    4\n",
      "e    5\n",
      "dtype: int64\n"
     ]
    }
   ],
   "source": [
    "# Retrive last 3 elments the element\n",
    "import pandas as pd\n",
    "s=pd.Series([1,2,3,4,5],index=['a','b','c','d','e'])\n",
    "print (s[-3:])"
   ]
  },
  {
   "cell_type": "code",
   "execution_count": 73,
   "id": "ea31d0a3-7963-4514-a373-1af6877bc9e5",
   "metadata": {},
   "outputs": [
    {
     "name": "stdout",
     "output_type": "stream",
     "text": [
      "2\n"
     ]
    }
   ],
   "source": [
    "# Retrive by labled index \n",
    "import pandas as pd\n",
    "s=pd.Series([1,2,3,4,5],index=['a','b','c','d','e'])\n",
    "print (s['b'])"
   ]
  },
  {
   "cell_type": "code",
   "execution_count": 75,
   "id": "4b4c5e57-9af2-40fb-bc5f-463e8c069518",
   "metadata": {},
   "outputs": [
    {
     "name": "stdout",
     "output_type": "stream",
     "text": [
      "a    1\n",
      "c    3\n",
      "e    5\n",
      "dtype: int64\n"
     ]
    }
   ],
   "source": [
    "# Retrive by labled index \n",
    "import pandas as pd\n",
    "s=pd.Series([1,2,3,4,5],index=['a','b','c','d','e'])\n",
    "print (s[['a','c','e']])"
   ]
  },
  {
   "cell_type": "code",
   "execution_count": 79,
   "id": "6d73414e-3ec9-4e9c-b735-434a6a0c2664",
   "metadata": {},
   "outputs": [
    {
     "name": "stdout",
     "output_type": "stream",
     "text": [
      "Empty DataFrame\n",
      "Columns: []\n",
      "Index: []\n"
     ]
    }
   ],
   "source": [
    "# DATA FREMES\n",
    "# creating empty data frame\n",
    "import pandas as pd\n",
    "df=pd.DataFrame()\n",
    "print(df)"
   ]
  },
  {
   "cell_type": "code",
   "execution_count": 53,
   "id": "bbe958e6-df81-4493-aeb5-b59f93e56b3a",
   "metadata": {},
   "outputs": [
    {
     "name": "stdout",
     "output_type": "stream",
     "text": [
      "   0\n",
      "0  1\n",
      "1  2\n",
      "2  3\n",
      "3  4\n",
      "4  5\n"
     ]
    }
   ],
   "source": [
    "# creating data frame of list\n",
    "import pandas as pd\n",
    "list=[1,2,3,4,5]\n",
    "df=pd.DataFrame(list)\n",
    "print(df)"
   ]
  },
  {
   "cell_type": "code",
   "execution_count": 59,
   "id": "5eed5450-196e-4ae8-9598-15d8f338f677",
   "metadata": {},
   "outputs": [
    {
     "name": "stdout",
     "output_type": "stream",
     "text": [
      "  Name  Age\n",
      "0  Sam   18\n",
      "1  Ram   20\n",
      "2  Bob   17\n"
     ]
    }
   ],
   "source": [
    "import pandas as pd\n",
    "list=[['Sam',18],['Ram',20],['Bob',17]]\n",
    "df=pd.DataFrame(list,columns=['Name','Age'])\n",
    "print(df)"
   ]
  },
  {
   "cell_type": "code",
   "execution_count": 89,
   "id": "b6eeb4a7-d1ee-4821-95a3-d39452441245",
   "metadata": {},
   "outputs": [
    {
     "name": "stdout",
     "output_type": "stream",
     "text": [
      "    Name  Age\n",
      "0    Sam   12\n",
      "1    Tom   17\n",
      "2   Jack   18\n",
      "3  Ricky   23\n"
     ]
    }
   ],
   "source": [
    "import pandas as pd\n",
    "data={'Name':['Sam','Tom','Jack','Ricky'],'Age':[12,17,18,23]}\n",
    "df=pd.DataFrame(data)\n",
    "print(df)"
   ]
  },
  {
   "cell_type": "code",
   "execution_count": 93,
   "id": "6e6f4158-0411-4431-a4b8-e09ad5dddcfc",
   "metadata": {},
   "outputs": [
    {
     "name": "stdout",
     "output_type": "stream",
     "text": [
      "         Name  Age\n",
      "Rank 1    Sam   12\n",
      "Rank 2    Tom   17\n",
      "Rank 3   Jack   18\n",
      "Rank 4  Ricky   23\n"
     ]
    }
   ],
   "source": [
    "import pandas as pd\n",
    "data={'Name':['Sam','Tom','Jack','Ricky'],'Age':[12,17,18,23]}\n",
    "df=pd.DataFrame(data,index=['Rank 1','Rank 2','Rank 3','Rank 4'])\n",
    "print(df)"
   ]
  },
  {
   "cell_type": "code",
   "execution_count": 97,
   "id": "f80804de-3bdb-4898-b149-e136fbb6a667",
   "metadata": {},
   "outputs": [
    {
     "name": "stdout",
     "output_type": "stream",
     "text": [
      "    a   b     c\n",
      "0   1   2   NaN\n",
      "1  10  11  12.0\n"
     ]
    }
   ],
   "source": [
    "# Create data frame using list\n",
    "import pandas as pd\n",
    "data=[{'a':1,'b':2},{'a':10,'b':11,'c':12}]\n",
    "df=pd.DataFrame(data)\n",
    "print(df)"
   ]
  },
  {
   "cell_type": "code",
   "execution_count": 99,
   "id": "f12828b2-39c2-46c8-bedf-abcb6c4c3607",
   "metadata": {},
   "outputs": [
    {
     "name": "stdout",
     "output_type": "stream",
     "text": [
      "         a   b     c\n",
      "First    1   2   NaN\n",
      "Second  10  11  12.0\n"
     ]
    }
   ],
   "source": [
    "# Create data frame using list\n",
    "import pandas as pd\n",
    "data=[{'a':1,'b':2},{'a':10,'b':11,'c':12}]\n",
    "df=pd.DataFrame(data,index=['First','Second'])\n",
    "print(df)"
   ]
  },
  {
   "cell_type": "code",
   "execution_count": 101,
   "id": "65002cf7-e91e-490d-a65b-e7a916aaab2a",
   "metadata": {},
   "outputs": [
    {
     "name": "stdout",
     "output_type": "stream",
     "text": [
      "a    1.0\n",
      "b    2.0\n",
      "c    3.0\n",
      "d    NaN\n",
      "Name: one, dtype: float64\n"
     ]
    }
   ],
   "source": [
    "# column Selection\n",
    "import pandas as pd\n",
    "d={'one':pd.Series([1,2,3],index=['a','b','c']),\n",
    "    'two':pd.Series([1,2,3,4],index=['a','b','c','d'])}\n",
    "df=pd.DataFrame(d)\n",
    "print(df ['one'])"
   ]
  },
  {
   "cell_type": "code",
   "execution_count": null,
   "id": "8a5db12c-9fbb-4f55-99e6-2333ad6ceb5f",
   "metadata": {},
   "outputs": [],
   "source": []
  }
 ],
 "metadata": {
  "kernelspec": {
   "display_name": "Python 3 (ipykernel)",
   "language": "python",
   "name": "python3"
  },
  "language_info": {
   "codemirror_mode": {
    "name": "ipython",
    "version": 3
   },
   "file_extension": ".py",
   "mimetype": "text/x-python",
   "name": "python",
   "nbconvert_exporter": "python",
   "pygments_lexer": "ipython3",
   "version": "3.12.4"
  }
 },
 "nbformat": 4,
 "nbformat_minor": 5
}
