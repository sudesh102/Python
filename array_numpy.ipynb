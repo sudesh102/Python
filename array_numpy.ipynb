{
 "cells": [
  {
   "cell_type": "code",
   "execution_count": 1,
   "id": "fc151e6f-8122-47b0-8c10-7568aca90ed0",
   "metadata": {},
   "outputs": [],
   "source": [
    "import numpy as np\n"
   ]
  },
  {
   "cell_type": "code",
   "execution_count": 3,
   "id": "2312b096-08e7-497c-bd89-c38a9ca95873",
   "metadata": {},
   "outputs": [],
   "source": [
    "a=np.array([1,2,3])"
   ]
  },
  {
   "cell_type": "code",
   "execution_count": 5,
   "id": "51d800b5-0ac2-40c4-9a9c-fc706799921a",
   "metadata": {},
   "outputs": [
    {
     "name": "stdout",
     "output_type": "stream",
     "text": [
      "<class 'numpy.ndarray'>\n"
     ]
    }
   ],
   "source": [
    "print(type(a))"
   ]
  },
  {
   "cell_type": "code",
   "execution_count": 7,
   "id": "50222bc2-29b5-4b58-aa7f-8b6204d2480d",
   "metadata": {},
   "outputs": [
    {
     "name": "stdout",
     "output_type": "stream",
     "text": [
      "(3,)\n"
     ]
    }
   ],
   "source": [
    "print(a.shape)"
   ]
  },
  {
   "cell_type": "code",
   "execution_count": 9,
   "id": "eab3efc9-42f5-4c17-8ab9-63c895dda7d8",
   "metadata": {},
   "outputs": [
    {
     "name": "stdout",
     "output_type": "stream",
     "text": [
      "1 2 3\n"
     ]
    }
   ],
   "source": [
    "print(a[0],a[1],a[2])"
   ]
  },
  {
   "cell_type": "code",
   "execution_count": 11,
   "id": "86d83025-fb00-4e8f-9e93-8228f0a6b258",
   "metadata": {},
   "outputs": [],
   "source": [
    "# to chane element of array\n",
    "a[0]= 5"
   ]
  },
  {
   "cell_type": "code",
   "execution_count": 15,
   "id": "bb601321-ff1f-4dca-a202-194856bcc5b3",
   "metadata": {},
   "outputs": [
    {
     "name": "stdout",
     "output_type": "stream",
     "text": [
      "[5 2 3]\n"
     ]
    }
   ],
   "source": [
    "print(a)"
   ]
  },
  {
   "cell_type": "code",
   "execution_count": 25,
   "id": "19a3671e-5562-423f-b6a6-b728545d065c",
   "metadata": {},
   "outputs": [],
   "source": [
    "b=np.array([[1,2,3,4],[4,5,6,4]])"
   ]
  },
  {
   "cell_type": "code",
   "execution_count": 27,
   "id": "3b7cb94c-7a03-4d68-aac7-2c42cb9adff8",
   "metadata": {},
   "outputs": [
    {
     "name": "stdout",
     "output_type": "stream",
     "text": [
      "(2, 4)\n"
     ]
    }
   ],
   "source": [
    "print(b.shape)"
   ]
  },
  {
   "cell_type": "code",
   "execution_count": 31,
   "id": "c719f8a6-3f13-4921-82db-4e76015ca69f",
   "metadata": {},
   "outputs": [
    {
     "name": "stdout",
     "output_type": "stream",
     "text": [
      "1 2 3 4\n"
     ]
    }
   ],
   "source": [
    "print(b[0,0],b[0,1],b[0,2],b[0,3])"
   ]
  },
  {
   "cell_type": "code",
   "execution_count": 33,
   "id": "c0a318cf-3ffa-4b10-a129-d5dc75dcc40b",
   "metadata": {},
   "outputs": [],
   "source": [
    "a=np.zeros((2,2))"
   ]
  },
  {
   "cell_type": "code",
   "execution_count": 35,
   "id": "aa48dfc4-d232-44d5-a4be-a5aa38c57044",
   "metadata": {},
   "outputs": [
    {
     "name": "stdout",
     "output_type": "stream",
     "text": [
      "[[0. 0.]\n",
      " [0. 0.]]\n"
     ]
    }
   ],
   "source": [
    "print(a)"
   ]
  },
  {
   "cell_type": "code",
   "execution_count": 41,
   "id": "8e1f7650-3066-493e-843d-65127ee067f0",
   "metadata": {},
   "outputs": [],
   "source": [
    "b=np.ones((1,2,3))"
   ]
  },
  {
   "cell_type": "code",
   "execution_count": 43,
   "id": "26814122-437e-4ff7-8e51-05fe1da8c6e8",
   "metadata": {},
   "outputs": [
    {
     "name": "stdout",
     "output_type": "stream",
     "text": [
      "[[[1. 1. 1.]\n",
      "  [1. 1. 1.]]]\n"
     ]
    }
   ],
   "source": [
    "print(b)"
   ]
  },
  {
   "cell_type": "code",
   "execution_count": 45,
   "id": "330fe963-2b5e-46c6-ae80-99c61e9ceb03",
   "metadata": {},
   "outputs": [],
   "source": [
    "b=np.ones((1,2))"
   ]
  },
  {
   "cell_type": "code",
   "execution_count": 47,
   "id": "605b2fdb-6529-4eb7-8a0b-5fe6114d6311",
   "metadata": {},
   "outputs": [
    {
     "name": "stdout",
     "output_type": "stream",
     "text": [
      "[[1. 1.]]\n"
     ]
    }
   ],
   "source": [
    "print(b)"
   ]
  },
  {
   "cell_type": "code",
   "execution_count": 49,
   "id": "b70f23fc-71bb-4fd5-9b30-ce6b9d594fda",
   "metadata": {},
   "outputs": [],
   "source": [
    "c=np.full((2,2),5)"
   ]
  },
  {
   "cell_type": "code",
   "execution_count": 51,
   "id": "920eb002-fd8b-4e3f-9850-799c9fc33cab",
   "metadata": {},
   "outputs": [
    {
     "name": "stdout",
     "output_type": "stream",
     "text": [
      "[[5 5]\n",
      " [5 5]]\n"
     ]
    }
   ],
   "source": [
    "print(c)"
   ]
  },
  {
   "cell_type": "code",
   "execution_count": 59,
   "id": "62bb8511-c22f-46e7-9148-9252094ec14c",
   "metadata": {},
   "outputs": [],
   "source": [
    "d=np.eye(3) # identy matrix"
   ]
  },
  {
   "cell_type": "code",
   "execution_count": 61,
   "id": "d52eb4e9-0e4e-4178-92d4-2994791dea59",
   "metadata": {},
   "outputs": [
    {
     "name": "stdout",
     "output_type": "stream",
     "text": [
      "[[1. 0. 0.]\n",
      " [0. 1. 0.]\n",
      " [0. 0. 1.]]\n"
     ]
    }
   ],
   "source": [
    "print(d)"
   ]
  },
  {
   "cell_type": "code",
   "execution_count": 65,
   "id": "87d19426-f10b-4ece-ae24-9027e7c3e7b4",
   "metadata": {},
   "outputs": [],
   "source": [
    "e=np.random.random((2,2))"
   ]
  },
  {
   "cell_type": "code",
   "execution_count": 67,
   "id": "fea2bdfc-c5a6-4b73-8eef-941b0e3f838b",
   "metadata": {},
   "outputs": [
    {
     "name": "stdout",
     "output_type": "stream",
     "text": [
      "[[0.85088588 0.1233299 ]\n",
      " [0.97565603 0.76303654]]\n"
     ]
    }
   ],
   "source": [
    "print(e)"
   ]
  },
  {
   "cell_type": "code",
   "execution_count": 69,
   "id": "3b74f6dc-d26f-4071-a1c6-07c66c8fdb6a",
   "metadata": {},
   "outputs": [],
   "source": [
    "f=np.array(np.mat('1 2;3 4'))"
   ]
  },
  {
   "cell_type": "code",
   "execution_count": 71,
   "id": "c930391c-fcc8-4988-9708-4ada06dde3c6",
   "metadata": {},
   "outputs": [
    {
     "name": "stdout",
     "output_type": "stream",
     "text": [
      "[[1 2]\n",
      " [3 4]]\n"
     ]
    }
   ],
   "source": [
    "print(f)"
   ]
  },
  {
   "cell_type": "code",
   "execution_count": 73,
   "id": "f04a230d-0e14-4bdc-8181-690984cd1113",
   "metadata": {},
   "outputs": [],
   "source": [
    "g=np.array(np.mat('1 2;3 4'),subok=True)"
   ]
  },
  {
   "cell_type": "code",
   "execution_count": 75,
   "id": "2cd35b8e-4823-4ce8-8337-0a7ed02f00c5",
   "metadata": {},
   "outputs": [
    {
     "name": "stdout",
     "output_type": "stream",
     "text": [
      "[[1 2]\n",
      " [3 4]]\n"
     ]
    }
   ],
   "source": [
    "print(g)"
   ]
  },
  {
   "cell_type": "code",
   "execution_count": 77,
   "id": "b81e6f29-d3ca-4dae-80f1-ebde1776b0ef",
   "metadata": {},
   "outputs": [],
   "source": [
    "a=np.arange(10)"
   ]
  },
  {
   "cell_type": "code",
   "execution_count": 85,
   "id": "8f61d35a-b835-4e21-8926-7caa37544ab1",
   "metadata": {},
   "outputs": [
    {
     "name": "stdout",
     "output_type": "stream",
     "text": [
      "[[4 5 6]]\n"
     ]
    }
   ],
   "source": [
    "print(a[2:5]) # slice"
   ]
  },
  {
   "cell_type": "code",
   "execution_count": 83,
   "id": "d7442b1d-fb35-41d4-abaf-bb0c886cdde6",
   "metadata": {},
   "outputs": [],
   "source": [
    "a=np.array([[1,2,3],[3,4,5],[4,5,6]])"
   ]
  },
  {
   "cell_type": "code",
   "execution_count": 95,
   "id": "70079977-f4f5-4203-a7ad-7d9bbeb93957",
   "metadata": {},
   "outputs": [
    {
     "name": "stdout",
     "output_type": "stream",
     "text": [
      "[[3 4 5]\n",
      " [4 5 6]]\n"
     ]
    }
   ],
   "source": [
    "print(a[1:])"
   ]
  },
  {
   "cell_type": "code",
   "execution_count": 83,
   "id": "d990bb0f-15aa-4fb9-8299-7a73a5a87376",
   "metadata": {},
   "outputs": [],
   "source": [
    "a=np.array([[1,2,3],[3,4,5],[4,5,6]])"
   ]
  },
  {
   "cell_type": "code",
   "execution_count": 97,
   "id": "0eb240f4-dbf6-4dd8-9ee2-2c38b4059454",
   "metadata": {},
   "outputs": [
    {
     "name": "stdout",
     "output_type": "stream",
     "text": [
      "[2 4 5]\n"
     ]
    }
   ],
   "source": [
    "print(a[...,1])"
   ]
  },
  {
   "cell_type": "code",
   "execution_count": 99,
   "id": "883a25d4-e4e2-4df2-a368-a5d2f8ab0aff",
   "metadata": {},
   "outputs": [
    {
     "name": "stdout",
     "output_type": "stream",
     "text": [
      "[3 4 5]\n"
     ]
    }
   ],
   "source": [
    "print(a[1,...])"
   ]
  },
  {
   "cell_type": "code",
   "execution_count": 101,
   "id": "f67e630e-a0ca-49e8-9eef-eea5cc1e1f7c",
   "metadata": {},
   "outputs": [
    {
     "name": "stdout",
     "output_type": "stream",
     "text": [
      "[[2 3]\n",
      " [4 5]\n",
      " [5 6]]\n"
     ]
    }
   ],
   "source": [
    "print(a[...,1:])"
   ]
  },
  {
   "cell_type": "code",
   "execution_count": 103,
   "id": "e34a10aa-9cf3-418d-b5cc-bdf1d189e09a",
   "metadata": {},
   "outputs": [],
   "source": [
    "a=np.array([[1,2],[3,4],[5,6]])\n",
    "b=a[[0,1,2],[0,1,0]]"
   ]
  },
  {
   "cell_type": "code",
   "execution_count": null,
   "id": "d46b8585-0073-4884-9069-d1bc3f3b454b",
   "metadata": {},
   "outputs": [],
   "source": [
    "print(y)"
   ]
  }
 ],
 "metadata": {
  "kernelspec": {
   "display_name": "Python 3 (ipykernel)",
   "language": "python",
   "name": "python3"
  },
  "language_info": {
   "codemirror_mode": {
    "name": "ipython",
    "version": 3
   },
   "file_extension": ".py",
   "mimetype": "text/x-python",
   "name": "python",
   "nbconvert_exporter": "python",
   "pygments_lexer": "ipython3",
   "version": "3.12.4"
  }
 },
 "nbformat": 4,
 "nbformat_minor": 5
}
